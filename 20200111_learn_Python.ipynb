{
 "cells": [
  {
   "cell_type": "code",
   "execution_count": 1,
   "metadata": {},
   "outputs": [
    {
     "name": "stdout",
     "output_type": "stream",
     "text": [
      "Helle World\n"
     ]
    }
   ],
   "source": [
    "print(\"Helle World\")"
   ]
  },
  {
   "cell_type": "markdown",
   "metadata": {},
   "source": [
    "# 20200111_Learning_Python\n",
    "## Part1 Juypter notebook\n",
    "### show how to open Jupyter\n",
    "1.I am\n",
    "2.XXX"
   ]
  },
  {
   "cell_type": "code",
   "execution_count": 7,
   "metadata": {},
   "outputs": [],
   "source": [
    "def fpo(n):\n",
    "    \"\"\"\n",
    "    Help\n",
    "    \"\"\"\n",
    "    if type(n) != int :\n",
    "        raise ValueError(\"Error n\")\n",
    "        \n",
    "    if n <= 0:\n",
    "        raise ValueError(\"n have to more than 0\")\n",
    "    if n == 1 or n == 2 :\n",
    "        return(1)\n",
    "    else:\n",
    "        return((fpo(n - 1) + fpo(n -2)))"
   ]
  },
  {
   "cell_type": "code",
   "execution_count": 23,
   "metadata": {
    "scrolled": true
   },
   "outputs": [
    {
     "name": "stdout",
     "output_type": "stream",
     "text": [
      "i =1,fbo(i) = 1 \n",
      "i =2,fbo(i) = 1 \n",
      "i =3,fbo(i) = 2 \n",
      "i =4,fbo(i) = 3 \n",
      "i =5,fbo(i) = 5 \n",
      "i =6,fbo(i) = 8 \n",
      "i =7,fbo(i) = 13 \n",
      "i =8,fbo(i) = 21 \n",
      "i =9,fbo(i) = 34 \n",
      "i =10,fbo(i) = 55 \n",
      "i =11,fbo(i) = 89 \n",
      "i =12,fbo(i) = 144 \n",
      "i =13,fbo(i) = 233 \n",
      "i =14,fbo(i) = 377 \n",
      "i =15,fbo(i) = 610 \n",
      "i =16,fbo(i) = 987 \n",
      "i =17,fbo(i) = 1597 \n",
      "i =18,fbo(i) = 2584 \n",
      "i =19,fbo(i) = 4181 \n",
      "i =20,fbo(i) = 6765 \n"
     ]
    }
   ],
   "source": [
    "for i in range (1,21):\n",
    "    out_str = \"i =% s,fbo(i) =% s \"%(i,fpo(i))\n",
    "    print(out_str)"
   ]
  },
  {
   "cell_type": "code",
   "execution_count": 9,
   "metadata": {},
   "outputs": [],
   "source": [
    "def fpo(n):\n",
    "    a,b = 1,1\n",
    "    for i in range(n-1):\n",
    "        a,b = b,a+b\n",
    "    return a"
   ]
  },
  {
   "cell_type": "code",
   "execution_count": 11,
   "metadata": {
    "scrolled": false
   },
   "outputs": [
    {
     "data": {
      "text/plain": [
       "55"
      ]
     },
     "execution_count": 11,
     "metadata": {},
     "output_type": "execute_result"
    }
   ],
   "source": [
    "fpo(10)"
   ]
  },
  {
   "cell_type": "code",
   "execution_count": 12,
   "metadata": {},
   "outputs": [
    {
     "data": {
      "text/plain": [
       "0.6180339887498949"
      ]
     },
     "execution_count": 12,
     "metadata": {},
     "output_type": "execute_result"
    }
   ],
   "source": [
    "fpo(999)/1.0/fpo(1000)"
   ]
  },
  {
   "cell_type": "code",
   "execution_count": 35,
   "metadata": {},
   "outputs": [],
   "source": [
    "def prime_state(n):\n",
    "    \"\"\"\n",
    "    Help\n",
    "        \n",
    "    \"\"\"\n",
    "    count = 0\n",
    "    for i in range(1,n + 1):\n",
    "        if n % i == 0:\n",
    "            count += 1\n",
    "            \n",
    "        if count > 2:\n",
    "                return (False)\n",
    "            \n",
    "    return(True)"
   ]
  },
  {
   "cell_type": "code",
   "execution_count": 31,
   "metadata": {},
   "outputs": [
    {
     "name": "stdout",
     "output_type": "stream",
     "text": [
      "1 101\n",
      "2 103\n",
      "3 106\n",
      "4 107\n",
      "5 109\n",
      "6 111\n",
      "7 113\n",
      "8 115\n",
      "9 118\n",
      "10 119\n",
      "11 121\n",
      "12 122\n",
      "13 123\n",
      "14 125\n",
      "15 127\n",
      "16 129\n",
      "17 131\n",
      "18 133\n",
      "19 134\n",
      "20 137\n",
      "21 139\n",
      "22 141\n",
      "23 142\n",
      "24 143\n",
      "25 145\n",
      "26 146\n",
      "27 149\n",
      "28 151\n",
      "29 155\n",
      "30 157\n",
      "31 158\n",
      "32 159\n",
      "33 161\n",
      "34 163\n",
      "35 166\n",
      "36 167\n",
      "37 169\n",
      "38 173\n",
      "39 177\n",
      "40 178\n",
      "41 179\n",
      "42 181\n",
      "43 183\n",
      "44 185\n",
      "45 187\n",
      "46 191\n",
      "47 193\n",
      "48 194\n",
      "49 197\n",
      "50 199\n"
     ]
    }
   ],
   "source": [
    "index = 1\n",
    "for x in range(101,200):\n",
    "    x_state = prime_state(x)\n",
    "    if x_state == True:\n",
    "        print(index,x)\n",
    "        index += 1"
   ]
  },
  {
   "cell_type": "code",
   "execution_count": 25,
   "metadata": {},
   "outputs": [],
   "source": [
    "import math"
   ]
  },
  {
   "cell_type": "code",
   "execution_count": 26,
   "metadata": {},
   "outputs": [
    {
     "data": {
      "text/plain": [
       "10.0"
      ]
     },
     "execution_count": 26,
     "metadata": {},
     "output_type": "execute_result"
    }
   ],
   "source": [
    "math.sqrt(100)"
   ]
  },
  {
   "cell_type": "code",
   "execution_count": null,
   "metadata": {},
   "outputs": [],
   "source": [
    "math."
   ]
  },
  {
   "cell_type": "code",
   "execution_count": 27,
   "metadata": {
    "collapsed": true
   },
   "outputs": [
    {
     "name": "stdout",
     "output_type": "stream",
     "text": [
      "Help on built-in module math:\n",
      "\n",
      "NAME\n",
      "    math\n",
      "\n",
      "DESCRIPTION\n",
      "    This module is always available.  It provides access to the\n",
      "    mathematical functions defined by the C standard.\n",
      "\n",
      "FUNCTIONS\n",
      "    acos(x, /)\n",
      "        Return the arc cosine (measured in radians) of x.\n",
      "    \n",
      "    acosh(x, /)\n",
      "        Return the inverse hyperbolic cosine of x.\n",
      "    \n",
      "    asin(x, /)\n",
      "        Return the arc sine (measured in radians) of x.\n",
      "    \n",
      "    asinh(x, /)\n",
      "        Return the inverse hyperbolic sine of x.\n",
      "    \n",
      "    atan(x, /)\n",
      "        Return the arc tangent (measured in radians) of x.\n",
      "    \n",
      "    atan2(y, x, /)\n",
      "        Return the arc tangent (measured in radians) of y/x.\n",
      "        \n",
      "        Unlike atan(y/x), the signs of both x and y are considered.\n",
      "    \n",
      "    atanh(x, /)\n",
      "        Return the inverse hyperbolic tangent of x.\n",
      "    \n",
      "    ceil(x, /)\n",
      "        Return the ceiling of x as an Integral.\n",
      "        \n",
      "        This is the smallest integer >= x.\n",
      "    \n",
      "    copysign(x, y, /)\n",
      "        Return a float with the magnitude (absolute value) of x but the sign of y.\n",
      "        \n",
      "        On platforms that support signed zeros, copysign(1.0, -0.0)\n",
      "        returns -1.0.\n",
      "    \n",
      "    cos(x, /)\n",
      "        Return the cosine of x (measured in radians).\n",
      "    \n",
      "    cosh(x, /)\n",
      "        Return the hyperbolic cosine of x.\n",
      "    \n",
      "    degrees(x, /)\n",
      "        Convert angle x from radians to degrees.\n",
      "    \n",
      "    erf(x, /)\n",
      "        Error function at x.\n",
      "    \n",
      "    erfc(x, /)\n",
      "        Complementary error function at x.\n",
      "    \n",
      "    exp(x, /)\n",
      "        Return e raised to the power of x.\n",
      "    \n",
      "    expm1(x, /)\n",
      "        Return exp(x)-1.\n",
      "        \n",
      "        This function avoids the loss of precision involved in the direct evaluation of exp(x)-1 for small x.\n",
      "    \n",
      "    fabs(x, /)\n",
      "        Return the absolute value of the float x.\n",
      "    \n",
      "    factorial(x, /)\n",
      "        Find x!.\n",
      "        \n",
      "        Raise a ValueError if x is negative or non-integral.\n",
      "    \n",
      "    floor(x, /)\n",
      "        Return the floor of x as an Integral.\n",
      "        \n",
      "        This is the largest integer <= x.\n",
      "    \n",
      "    fmod(x, y, /)\n",
      "        Return fmod(x, y), according to platform C.\n",
      "        \n",
      "        x % y may differ.\n",
      "    \n",
      "    frexp(x, /)\n",
      "        Return the mantissa and exponent of x, as pair (m, e).\n",
      "        \n",
      "        m is a float and e is an int, such that x = m * 2.**e.\n",
      "        If x is 0, m and e are both 0.  Else 0.5 <= abs(m) < 1.0.\n",
      "    \n",
      "    fsum(seq, /)\n",
      "        Return an accurate floating point sum of values in the iterable seq.\n",
      "        \n",
      "        Assumes IEEE-754 floating point arithmetic.\n",
      "    \n",
      "    gamma(x, /)\n",
      "        Gamma function at x.\n",
      "    \n",
      "    gcd(x, y, /)\n",
      "        greatest common divisor of x and y\n",
      "    \n",
      "    hypot(x, y, /)\n",
      "        Return the Euclidean distance, sqrt(x*x + y*y).\n",
      "    \n",
      "    isclose(a, b, *, rel_tol=1e-09, abs_tol=0.0)\n",
      "        Determine whether two floating point numbers are close in value.\n",
      "        \n",
      "          rel_tol\n",
      "            maximum difference for being considered \"close\", relative to the\n",
      "            magnitude of the input values\n",
      "          abs_tol\n",
      "            maximum difference for being considered \"close\", regardless of the\n",
      "            magnitude of the input values\n",
      "        \n",
      "        Return True if a is close in value to b, and False otherwise.\n",
      "        \n",
      "        For the values to be considered close, the difference between them\n",
      "        must be smaller than at least one of the tolerances.\n",
      "        \n",
      "        -inf, inf and NaN behave similarly to the IEEE 754 Standard.  That\n",
      "        is, NaN is not close to anything, even itself.  inf and -inf are\n",
      "        only close to themselves.\n",
      "    \n",
      "    isfinite(x, /)\n",
      "        Return True if x is neither an infinity nor a NaN, and False otherwise.\n",
      "    \n",
      "    isinf(x, /)\n",
      "        Return True if x is a positive or negative infinity, and False otherwise.\n",
      "    \n",
      "    isnan(x, /)\n",
      "        Return True if x is a NaN (not a number), and False otherwise.\n",
      "    \n",
      "    ldexp(x, i, /)\n",
      "        Return x * (2**i).\n",
      "        \n",
      "        This is essentially the inverse of frexp().\n",
      "    \n",
      "    lgamma(x, /)\n",
      "        Natural logarithm of absolute value of Gamma function at x.\n",
      "    \n",
      "    log(...)\n",
      "        log(x, [base=math.e])\n",
      "        Return the logarithm of x to the given base.\n",
      "        \n",
      "        If the base not specified, returns the natural logarithm (base e) of x.\n",
      "    \n",
      "    log10(x, /)\n",
      "        Return the base 10 logarithm of x.\n",
      "    \n",
      "    log1p(x, /)\n",
      "        Return the natural logarithm of 1+x (base e).\n",
      "        \n",
      "        The result is computed in a way which is accurate for x near zero.\n",
      "    \n",
      "    log2(x, /)\n",
      "        Return the base 2 logarithm of x.\n",
      "    \n",
      "    modf(x, /)\n",
      "        Return the fractional and integer parts of x.\n",
      "        \n",
      "        Both results carry the sign of x and are floats.\n",
      "    \n",
      "    pow(x, y, /)\n",
      "        Return x**y (x to the power of y).\n",
      "    \n",
      "    radians(x, /)\n",
      "        Convert angle x from degrees to radians.\n",
      "    \n",
      "    remainder(x, y, /)\n",
      "        Difference between x and the closest integer multiple of y.\n",
      "        \n",
      "        Return x - n*y where n*y is the closest integer multiple of y.\n",
      "        In the case where x is exactly halfway between two multiples of\n",
      "        y, the nearest even value of n is used. The result is always exact.\n",
      "    \n",
      "    sin(x, /)\n",
      "        Return the sine of x (measured in radians).\n",
      "    \n",
      "    sinh(x, /)\n",
      "        Return the hyperbolic sine of x.\n",
      "    \n",
      "    sqrt(x, /)\n",
      "        Return the square root of x.\n",
      "    \n",
      "    tan(x, /)\n",
      "        Return the tangent of x (measured in radians).\n",
      "    \n",
      "    tanh(x, /)\n",
      "        Return the hyperbolic tangent of x.\n",
      "    \n",
      "    trunc(x, /)\n",
      "        Truncates the Real x to the nearest Integral toward 0.\n",
      "        \n",
      "        Uses the __trunc__ magic method.\n",
      "\n",
      "DATA\n",
      "    e = 2.718281828459045\n",
      "    inf = inf\n",
      "    nan = nan\n",
      "    pi = 3.141592653589793\n",
      "    tau = 6.283185307179586\n",
      "\n",
      "FILE\n",
      "    (built-in)\n",
      "\n",
      "\n"
     ]
    }
   ],
   "source": [
    "help(math)"
   ]
  },
  {
   "cell_type": "code",
   "execution_count": 33,
   "metadata": {},
   "outputs": [],
   "source": [
    "import time"
   ]
  },
  {
   "cell_type": "code",
   "execution_count": 37,
   "metadata": {},
   "outputs": [
    {
     "name": "stdout",
     "output_type": "stream",
     "text": [
      "0.3061952590942383\n"
     ]
    }
   ],
   "source": [
    "start_time = time.time()\n",
    "\n",
    "count = 0\n",
    "for l in range(2,5000):\n",
    "    if prime_state(l):\n",
    "        count += 1\n",
    "#end_time    \n",
    "end_time = time.time()\n",
    "#out_run_time\n",
    "print(end_time - start_time)"
   ]
  },
  {
   "cell_type": "code",
   "execution_count": 43,
   "metadata": {},
   "outputs": [
    {
     "ename": "SyntaxError",
     "evalue": "invalid syntax (<ipython-input-43-861cd4db479e>, line 23)",
     "output_type": "error",
     "traceback": [
      "\u001b[1;36m  File \u001b[1;32m\"<ipython-input-43-861cd4db479e>\"\u001b[1;36m, line \u001b[1;32m23\u001b[0m\n\u001b[1;33m    elif:\u001b[0m\n\u001b[1;37m        ^\u001b[0m\n\u001b[1;31mSyntaxError\u001b[0m\u001b[1;31m:\u001b[0m invalid syntax\n"
     ]
    }
   ],
   "source": [
    "def get_grade(score):\n",
    "    \"\"\"\n",
    "    Input\n",
    "      <score>\n",
    "        renge.from 0-100\n",
    "        \n",
    "    Return\n",
    "      <score_grade>\n",
    "        >90 A\n",
    "        80-89B\n",
    "        70-79C\n",
    "        60-69D\n",
    "        <60F\n",
    "    \"\"\"\n",
    "    if score > 90:\n",
    "        return(\"A\")\n",
    "    elif 80 <= score <= 89:\n",
    "        return(\"B\")\n",
    "    elif 70 <= score <= 79:\n",
    "        return(\"C\")\n",
    "    elif 60 <= score <= 69:\n",
    "        return(\"D\")\n",
    "    elif:\n",
    "        return(\"F\")"
   ]
  },
  {
   "cell_type": "code",
   "execution_count": 42,
   "metadata": {
    "scrolled": true
   },
   "outputs": [
    {
     "ename": "NameError",
     "evalue": "name 'get_grade' is not defined",
     "output_type": "error",
     "traceback": [
      "\u001b[1;31m---------------------------------------------------------------------------\u001b[0m",
      "\u001b[1;31mNameError\u001b[0m                                 Traceback (most recent call last)",
      "\u001b[1;32m<ipython-input-42-f93f88a65440>\u001b[0m in \u001b[0;36m<module>\u001b[1;34m\u001b[0m\n\u001b[1;32m----> 1\u001b[1;33m \u001b[0mget_grade\u001b[0m\u001b[1;33m(\u001b[0m\u001b[1;36m100\u001b[0m\u001b[1;33m)\u001b[0m\u001b[1;33m\u001b[0m\u001b[1;33m\u001b[0m\u001b[0m\n\u001b[0m",
      "\u001b[1;31mNameError\u001b[0m: name 'get_grade' is not defined"
     ]
    }
   ],
   "source": [
    "get_grade(100)"
   ]
  },
  {
   "cell_type": "code",
   "execution_count": 48,
   "metadata": {},
   "outputs": [],
   "source": [
    "# out put a file\n",
    "out_file = open(\"C:/Users/voc/Desktop/out_1.txt\",\"w\")\n",
    "\n",
    "for i in range(1,101):\n",
    "    if i % 2 == 0:\n",
    "        out_file.write(str(i) + \"\\n\")\n",
    "\n",
    "out_file.close()\n",
    "\n"
   ]
  },
  {
   "cell_type": "code",
   "execution_count": 49,
   "metadata": {},
   "outputs": [],
   "source": [
    "# out put a file\n",
    "out_file = open(\"C:/Users/voc/Desktop/out_2.txt\",\"a\")\n",
    "\n",
    "for i in range(1,101):\n",
    "    if i % 2 != 0:\n",
    "        out_file.write(str(i) + \"\\n\")\n",
    "\n",
    "out_file.close()"
   ]
  },
  {
   "cell_type": "code",
   "execution_count": 55,
   "metadata": {},
   "outputs": [
    {
     "name": "stdout",
     "output_type": "stream",
     "text": [
      "2550\n"
     ]
    }
   ],
   "source": [
    "# load a file\n",
    "In_file = open(\"C:/Users/voc/Desktop/out_1.txt\",\"r\")\n",
    "\n",
    "line = In_file.readline()\n",
    "\n",
    "sum_value = 0\n",
    "while line != \"\":\n",
    "    sum_value += int(line.strip())\n",
    "    line = In_file.readline()\n",
    "    \n",
    "print(sum_value)\n",
    "\n",
    "In_file.close()\n"
   ]
  },
  {
   "cell_type": "code",
   "execution_count": 54,
   "metadata": {},
   "outputs": [
    {
     "name": "stdout",
     "output_type": "stream",
     "text": [
      "['2\\n', '4\\n', '6\\n', '8\\n', '10\\n', '12\\n', '14\\n', '16\\n', '18\\n', '20\\n', '22\\n', '24\\n', '26\\n', '28\\n', '30\\n', '32\\n', '34\\n', '36\\n', '38\\n', '40\\n', '42\\n', '44\\n', '46\\n', '48\\n', '50\\n', '52\\n', '54\\n', '56\\n', '58\\n', '60\\n', '62\\n', '64\\n', '66\\n', '68\\n', '70\\n', '72\\n', '74\\n', '76\\n', '78\\n', '80\\n', '82\\n', '84\\n', '86\\n', '88\\n', '90\\n', '92\\n', '94\\n', '96\\n', '98\\n', '100\\n']\n"
     ]
    }
   ],
   "source": [
    "# load a file\n",
    "In_file = open(\"C:/Users/voc/Desktop/out_1.txt\",\"r\")\n",
    "\n",
    "line_list = In_file.readlines()\n",
    "\n",
    "print(line_list)\n",
    "\n",
    "sum_value = 0\n",
    "for line in line_list:\n",
    "    sum_value += int(line.strip())\n",
    "\n",
    "In_file.close()"
   ]
  },
  {
   "cell_type": "code",
   "execution_count": 53,
   "metadata": {},
   "outputs": [
    {
     "name": "stdout",
     "output_type": "stream",
     "text": [
      "2550\n"
     ]
    }
   ],
   "source": [
    "# load a file\n",
    "In_file = open(\"C:/Users/voc/Desktop/out_1.txt\",\"r\")\n",
    "\n",
    "sum_value = 0\n",
    "for line in In_file:\n",
    "    sum_value += int(line.strip())\n",
    "print(sum_value)\n",
    "In_file.close()"
   ]
  },
  {
   "cell_type": "code",
   "execution_count": 56,
   "metadata": {},
   "outputs": [
    {
     "name": "stdout",
     "output_type": "stream",
     "text": [
      "2550\n"
     ]
    }
   ],
   "source": [
    "# load a file\n",
    "with open(\"C:/Users/voc/Desktop/out_1.txt\",\"r\") as in_file:\n",
    "    sum_value = 0\n",
    "    for line in in_file:\n",
    "        sum_value += int(line.strip())\n",
    "        \n",
    "    print(sum_value)"
   ]
  },
  {
   "cell_type": "code",
   "execution_count": 57,
   "metadata": {
    "collapsed": true
   },
   "outputs": [
    {
     "name": "stdout",
     "output_type": "stream",
     "text": [
      "0\n"
     ]
    }
   ],
   "source": [
    "# load a file\n",
    "with open(\"C:/Users/voc/Desktop/out_1.txt\",\"r\") as in_file:\n",
    "    line_list = in_file.readlines()#指针由文档首位置已经到最后一个位置\n",
    "    \n",
    "    sum_value = 0\n",
    "    for line in in_file:\n",
    "        sum_value += int(line.strip())\n",
    "    print(sum_value)"
   ]
  },
  {
   "cell_type": "code",
   "execution_count": 66,
   "metadata": {
    "collapsed": true
   },
   "outputs": [
    {
     "name": "stdout",
     "output_type": "stream",
     "text": [
      "[0, '1995-04-01', 'A1']\n",
      "[1, '1996-12-22', 'A2']\n",
      "[2, '1995-10-23', 'A3']\n",
      "[3, '1996-06-01', 'A4']\n",
      "[4, '1996-12-05', 'A5']\n",
      "[5, '1995-12-08', 'A6']\n",
      "[6, '1996-09-24', 'A7']\n",
      "[7, '1995-03-08', 'A8']\n",
      "[8, '1996-08-12', 'A9']\n",
      "[9, '1996-12-25', 'A10']\n",
      "[10, '1995-05-07', 'A11']\n",
      "[11, '1995-10-21', 'A12']\n",
      "[12, '1996-05-11', 'A13']\n",
      "[13, '1995-09-02', 'A14']\n",
      "[14, '1995-04-05', 'A15']\n",
      "[15, '1996-10-24', 'A16']\n",
      "[16, '1995-12-28', 'A17']\n",
      "[17, '1995-10-03', 'A18']\n",
      "[18, '1995-09-16', 'A19']\n",
      "[19, '1995-07-16', 'A20']\n"
     ]
    }
   ],
   "source": [
    "#load a file\n",
    "with open(\"C:/Users/voc/Desktop/birthday_file1.txt\",\"r\") as in_file:\n",
    "    header = in_file.readline()\n",
    "\n",
    "    for line_index,line in enumerate(in_file):\n",
    "        line_list = line.strip().split(\"\\t\")\n",
    "        print([line_index] + line_list)      "
   ]
  },
  {
   "cell_type": "code",
   "execution_count": 64,
   "metadata": {
    "collapsed": true
   },
   "outputs": [
    {
     "name": "stdout",
     "output_type": "stream",
     "text": [
      "0 a\n",
      "1 b\n",
      "2 c\n",
      "3 d\n",
      "4 e\n",
      "5 f\n",
      "6 g\n"
     ]
    }
   ],
   "source": [
    "test_str = \"abcdefg\"\n",
    "\n",
    "for index,x in enumerate(test_str):\n",
    "    print(index,x)"
   ]
  },
  {
   "cell_type": "code",
   "execution_count": 71,
   "metadata": {
    "scrolled": true
   },
   "outputs": [
    {
     "name": "stdout",
     "output_type": "stream",
     "text": [
      "1995-04-01 ['A1']\n",
      "1996-12-22 ['A2']\n",
      "1995-10-23 ['A3']\n",
      "1996-06-01 ['A4']\n",
      "1996-12-05 ['A5']\n",
      "1995-12-08 ['A6']\n",
      "1996-09-24 ['A7']\n",
      "1995-03-08 ['A8']\n",
      "1996-08-12 ['A9']\n",
      "1996-12-25 ['A10']\n",
      "1995-05-07 ['A11']\n",
      "1995-10-21 ['A12']\n",
      "1996-05-11 ['A13']\n",
      "1995-09-02 ['A14']\n",
      "1995-04-05 ['A15']\n",
      "1996-10-24 ['A16']\n",
      "1995-12-28 ['A17']\n",
      "1995-10-03 ['A18']\n",
      "1995-09-16 ['A19']\n",
      "1995-07-16 ['A20']\n"
     ]
    }
   ],
   "source": [
    "#final test : merge table\n",
    "birth_1_dact = {}\n",
    "\n",
    "with open(\"C:/Users/voc/Desktop/birthday_file1.txt\",\"r\") as in_file:\n",
    "    header = in_file.readline()\n",
    "    for line in in_file:\n",
    "        line_list = line.strip().split(\"\\t\")\n",
    "        \n",
    "        birthday = line_list[0]\n",
    "        name = line_list[1]\n",
    "        \n",
    "        if birth_1_dact.get(birthday) == None:\n",
    "            birth_1_dact[birthday] = [name]\n",
    "            \n",
    "        else:\n",
    "            birth_1_dact[birthday].append(name)\n",
    "            \n",
    "#print dact\n",
    "for key in birth_1_dact.keys():\n",
    "    print(key,birth_1_dact[key])\n",
    "    \n",
    "    \n",
    "#open a out file\n",
    "out_file = open(\"C:/Users/voc/Desktop/birthday_overlap.txt\",\"w\")\n",
    "    \n",
    "#file 2\n",
    "with open(\"C:/Users/voc/Desktop/birthday_file2.txt\",\"r\") as in_file2:\n",
    "    header_2 = in_file2.readline()\n",
    "    for line in in_file2:\n",
    "        birthday,name = line.strip().split(\"\\t\")\n",
    "        \n",
    "        #check overlap\n",
    "        if birth_1_dact.get(birthday) != None:\n",
    "            out_name_list = birth_1_dact[birthday] + [name]\n",
    "            out_str = birthday + \"\\t\" + \",\".join(out_name_list)\n",
    "            out_file.write(out_str + \"\\n\")\n",
    "\n",
    "#close file\n",
    "out_file.close()"
   ]
  },
  {
   "cell_type": "code",
   "execution_count": null,
   "metadata": {},
   "outputs": [],
   "source": []
  },
  {
   "cell_type": "code",
   "execution_count": null,
   "metadata": {},
   "outputs": [],
   "source": []
  },
  {
   "cell_type": "code",
   "execution_count": null,
   "metadata": {},
   "outputs": [],
   "source": []
  },
  {
   "cell_type": "code",
   "execution_count": null,
   "metadata": {},
   "outputs": [],
   "source": []
  },
  {
   "cell_type": "code",
   "execution_count": null,
   "metadata": {},
   "outputs": [],
   "source": []
  },
  {
   "cell_type": "code",
   "execution_count": null,
   "metadata": {},
   "outputs": [],
   "source": []
  }
 ],
 "metadata": {
  "kernelspec": {
   "display_name": "Python 3",
   "language": "python",
   "name": "python3"
  },
  "language_info": {
   "codemirror_mode": {
    "name": "ipython",
    "version": 3
   },
   "file_extension": ".py",
   "mimetype": "text/x-python",
   "name": "python",
   "nbconvert_exporter": "python",
   "pygments_lexer": "ipython3",
   "version": "3.7.1"
  }
 },
 "nbformat": 4,
 "nbformat_minor": 2
}
