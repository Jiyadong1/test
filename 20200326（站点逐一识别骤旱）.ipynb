{
 "cells": [
  {
   "cell_type": "markdown",
   "metadata": {},
   "source": [
    "# 1 载入模块，清除空间"
   ]
  },
  {
   "cell_type": "code",
   "execution_count": 1,
   "metadata": {},
   "outputs": [
    {
     "name": "stdout",
     "output_type": "stream",
     "text": [
      "Once deleted, variables cannot be recovered. Proceed (y/[n])? y\n"
     ]
    }
   ],
   "source": [
    "reset"
   ]
  },
  {
   "cell_type": "code",
   "execution_count": 2,
   "metadata": {},
   "outputs": [],
   "source": [
    "import os,sys\n",
    "import numpy as np\n",
    "import pandas as pd\n",
    "from fitter import Fitter\n",
    "import scipy.stats as st\n",
    "import matplotlib.pyplot as plt\n",
    "\n",
    "from pylab import mpl\n",
    "mpl.rcParams['font.sans-serif'] = ['FangSong'] # 指定默认字体  \n",
    "mpl.rcParams['axes.unicode_minus'] = False # 解决保存图像是负号'-'显示为方块的问题 \n",
    "\n",
    "from sklearn.linear_model import LinearRegression\n",
    "import time\n",
    "from IPython.display import clear_output as clear\n",
    "import pickle"
   ]
  },
  {
   "cell_type": "markdown",
   "metadata": {},
   "source": [
    "# 2 试一下所有程序一并运行"
   ]
  },
  {
   "cell_type": "markdown",
   "metadata": {},
   "source": [
    "## 2.1 swc_5day_average 函数"
   ]
  },
  {
   "cell_type": "code",
   "execution_count": 3,
   "metadata": {},
   "outputs": [],
   "source": [
    "def SWC_5DAY_AVERAGE():\n",
    "    \n",
    "    # 0-40cm深度\n",
    "    SWC[\"0-40cm\"] = SWC[\"0-10cm\"] * ([0.25] * len(SWC)) + SWC[\"10-40cm\"] * ([0.75] * len(SWC))\n",
    "    \n",
    "    # 提取3-11月份连续数据\n",
    "    swc = SWC.loc[:,[\"Year\",\"Month\",\"Day\",\"0-40cm\"]][(SWC[\"Month\"] != 1) & (SWC[\"Month\"] != 2) & (SWC[\"Month\"] != 12)& (SWC[\"Year\"] >= 1961)]\n",
    "    \n",
    "    # 5日滑动平均\n",
    "    a = []\n",
    "    for i in range(len(swc)):\n",
    "        if i <= (len(swc)-5):\n",
    "            a.append(np.mean(swc[\"0-40cm\"][i : (i + 5)]))\n",
    "        else:\n",
    "            a.append(0)\n",
    "    swc[\"0-40cm_5day_average\"] = a.copy() \n",
    "\n",
    "    # 只提取5日时间点\n",
    "    swc_5day_average = swc[::5]\n",
    "    swc_5day_average.index = np.arange(len(swc_5day_average))    \n",
    "    \n",
    "    return(swc_5day_average) "
   ]
  },
  {
   "cell_type": "markdown",
   "metadata": {},
   "source": [
    "## 2.2 swc_5day_average_T 函数"
   ]
  },
  {
   "cell_type": "code",
   "execution_count": 4,
   "metadata": {},
   "outputs": [],
   "source": [
    "def SWC_5DAT_AVERAGE_T():\n",
    "    \n",
    "    #列名\n",
    "    colnames = [\"年份\"]\n",
    "    for i in range(1,56):\n",
    "        colnames.append(str(swc_5day_average.Month[i-1]) + \"月\" + str(swc_5day_average.Day[i-1]) + \"日\")\n",
    "        \n",
    "    #创建只有年份的数据框\n",
    "    swc_5day_average_T = pd.DataFrame(data = list(set(swc_5day_average.Year)),columns=[\"Year\"])\n",
    "    \n",
    "    #将数据框改为逐日的多年变化\n",
    "    for month in range(3,12):\n",
    "        for day in range(min(swc_5day_average.Day[(swc_5day_average.Month == month )& (swc_5day_average.Year == 2000)]),\n",
    "                         max(swc_5day_average.Day[(swc_5day_average.Month == month )& (swc_5day_average.Year == 2000)]) + 1,\n",
    "                         5):\n",
    "            #某一天\n",
    "            tem = swc_5day_average[\"0-40cm_5day_average\"][(swc_5day_average.Month==month)&(swc_5day_average.Day==day)]\n",
    "            #更改系列索引\n",
    "            tem.index = np.arange(len(tem))\n",
    "            #将系列合并至数据框\n",
    "            swc_5day_average_T = pd.concat([swc_5day_average_T,tem],axis=1)\n",
    "        \n",
    "    # 重新赋值列名\n",
    "    swc_5day_average_T.columns = colnames\n",
    "    \n",
    "    return(swc_5day_average_T)  "
   ]
  },
  {
   "cell_type": "markdown",
   "metadata": {},
   "source": [
    "## 2.3 cdf_select_function 函数"
   ]
  },
  {
   "cell_type": "code",
   "execution_count": 5,
   "metadata": {},
   "outputs": [],
   "source": [
    "def cdf_select_function(x):\n",
    "    distribution=[\"alpha\",\"anglit\",\"arcsine\",\"argus\",\n",
    "                  \"beta\",\"betaprime\",\"bradford\",\"burr\",\"burr12\",\"cauchy\",\"chi\",\"chi2\",\"cosine\",\"crystalball\",\n",
    "                  \"dgamma\",\"dweibull\",\n",
    "                  \"expon\",\"exponnorm\",\"exponpow\",\"exponweib\",\"exponpow\",\n",
    "                  \"f\",\"fatiguelife\",\"fisk\",\"foldcauchy\",\"foldnorm\",\"frechet_r\",\"frechet_l\",\n",
    "                  \"genlogistic\",\"gennorm\",\"genextreme\",\"gausshyper\",\"gamma\",\"gengamma\",\"genhalflogistic\",\"genlogistic\",\"genpareto\",\"gompertz\",\"gilbrat\",\"gumbel_r\",\"gumbel_l\",\n",
    "                  \"halfcauchy\",\"halfgennorm\",\"halflogistic\",\"halfnorm\",\"hypsecant\",\n",
    "                  \"invgauss\",\"invgamma\",\"invgauss\",\"invweibull\",\n",
    "                  \"johnsonsb\",\"johnsonsu\",\n",
    "                  \"kappa4\",\"kappa3\",\"ksone\",\n",
    "                  \"laplace\",\"logistic\",\"loggamma\",\"loglaplace\",\"lognorm\",\"lomax\",\n",
    "                  \"maxwell\",\"mielke\",\"moyal\",\n",
    "                  \"nakagami\",\"ncx2\",\"ncf\",\"nct\",\"norm\",\"norminvgauss\",\n",
    "                  \"pareto\",\"pearson3\",\"powerlaw\",\"powerlognorm\",\"powernorm\",\n",
    "                  \"rayleigh\",\"rice\",\n",
    "                  \"semicircular\",\"skewnorm\",\n",
    "                  \"t\",\"trapz\",\"triang\",\"truncexpon\",\"truncnorm\",\"tukeylambda\",\n",
    "                  \"uniform\",\n",
    "                  \"vonmises_line\",\n",
    "                  \"wald\",\"weibull_min\",\"weibull_max\"]\n",
    "    f = Fitter(x,distributions = distribution)\n",
    "    f.fit()\n",
    "    \n",
    "    # 保证分布下的分位数没有缺失值\n",
    "    cdf_nominal = eval(\"st.\" +  f.summary().index[0] + \".cdf(x,*(f.fitted_param[f.summary().index[0]]))\")\n",
    "    for i in range(1,5):\n",
    "        if np.any(pd.DataFrame(cdf_nominal).isnull() == True):\n",
    "            cdf_nominal = eval(\"st.\" +  f.summary().index[i] + \".cdf(x,*(f.fitted_param[f.summary().index[i]]))\")\n",
    "        else:\n",
    "            cdf = cdf_nominal.copy() \n",
    "            break      \n",
    "    \n",
    "    return(cdf)"
   ]
  },
  {
   "cell_type": "markdown",
   "metadata": {},
   "source": [
    "## 2.4 swc_cdf 函数"
   ]
  },
  {
   "cell_type": "code",
   "execution_count": 6,
   "metadata": {},
   "outputs": [],
   "source": [
    "def SWC_CDF():\n",
    "    \n",
    "    # 空数据集\n",
    "    swc_cdf = swc_5day_average_T.copy()\n",
    "    swc_cdf.iloc[:,1:] = np.nan\n",
    "    \n",
    "    # 逐个填充\n",
    "    for i in range(1,56):\n",
    "        print(\"Filling the \" + str(i) + \"th column of swc_cdf\")\n",
    "        swc_cdf.iloc[:,i] = cdf_select_function(swc_5day_average_T.iloc[:,i])\n",
    "        \n",
    "    return(swc_cdf)"
   ]
  },
  {
   "cell_type": "markdown",
   "metadata": {},
   "source": [
    "## 2.5 swc_cdfchange_cdf 函数"
   ]
  },
  {
   "cell_type": "code",
   "execution_count": 7,
   "metadata": {},
   "outputs": [],
   "source": [
    "def SWC_CDFCHANGE_CDF():\n",
    "    \n",
    "    #创建CDF_Change数据框\n",
    "    swc_cdfchange = swc_5day_average_T.copy()\n",
    "    swc_cdfchange.iloc[:,1] = [0] * len(swc_cdfchange)\n",
    "    swc_cdfchange.iloc[:,2:] = np.nan\n",
    "    \n",
    "    swc_cdfchange.iloc[:,2:] = np.diff(swc_cdf)[:,1:]\n",
    "    \n",
    "    #创建Change_CDF数据框\n",
    "    swc_cdfchange_cdf = swc_5day_average_T.copy()\n",
    "    swc_cdfchange_cdf.iloc[:,1] = [0] * len(swc_cdfchange_cdf)\n",
    "    swc_cdfchange_cdf.iloc[:,2:] = np.nan    \n",
    "    \n",
    "    #填充Change_CDF数据框\n",
    "    for i in range(2,56):\n",
    "        print(\"Filling the \" + str(i) + \"th column of swc_cdfchange_cdf\")\n",
    "        swc_cdfchange_cdf.iloc[:,i] = cdf_select_function(swc_cdfchange.iloc[:,i])\n",
    "        \n",
    "    return(swc_cdfchange_cdf)"
   ]
  },
  {
   "cell_type": "markdown",
   "metadata": {},
   "source": [
    "## 2.6 FLASH_DROUGHT_INDENTIFY 函数"
   ]
  },
  {
   "cell_type": "code",
   "execution_count": 8,
   "metadata": {},
   "outputs": [],
   "source": [
    "def FLASH_DROUGHT_INDENTIFY():\n",
    "    \n",
    "    # RDI指数\n",
    "    RDI = swc_cdfchange_cdf.copy()\n",
    "    RDI.iloc[:,2:] = np.nan\n",
    "    \n",
    "    # 骤旱起始时间点、极值时间点、结束时间点\n",
    "    start_time = []\n",
    "    extreme_time = []\n",
    "    lag_time = [] \n",
    "\n",
    "    # 骤结束时rdi\n",
    "    rdi = []\n",
    "    \n",
    "    #填充条件\n",
    "    for i in range(len(RDI)): #逐行\n",
    "        for j in range(1,55): #每一行的各个元素\n",
    "            if swc_cdfchange_cdf.iloc[i,(j+1)] <= 0.4:#条件1：每次变动速率都小于40%\n",
    "                RDI.iloc[i,(j + 1)] = RDI.iloc[i,j] - np.sqrt(0.4 - swc_cdfchange_cdf.iloc[i,(j+1)])\n",
    "            elif swc_cdfchange_cdf.iloc[i,(j+1)] > 0.4:\n",
    "                RDI.iloc[i,(j + 1)] = 0 \n",
    "                if (RDI.iloc[i,j] < 0)&(swc_cdf.iloc[i,j] < 0.2):# 条件2 骤末尾swc_cdf小于20%\n",
    "                    k = 0\n",
    "                    while RDI.iloc[i,(j - k)] < 0 : # 计算骤持续时间段j - k -> j \n",
    "                        k = k + 1 \n",
    "                    m = 0\n",
    "                    while (swc_cdf.iloc[i,(j + m)] < 0.2):# 计算旱持续时间j + 1 ->j + m-1\n",
    "                        m = m + 1\n",
    "                        if (j + m) == 56:\n",
    "                            break            \n",
    "                    if ((np.diff(swc_cdf.iloc[i,(j - k):(j + 1)]) < 0).all())&(swc_cdf.iloc[i,(j - k)] > 0.4)&(k >= 3):\n",
    "                        # 条件3、4、5：骤阶段swc_cdf一直减少、初期swc_cdf超过0.4、骤时间超过20天\n",
    "                        \n",
    "                        start_time.append([i,(j - k)])\n",
    "                        extreme_time.append([i,j])\n",
    "                        lag_time.append([i,(j + m - 1)])\n",
    "                        rdi.append(RDI.iloc[i,j])\n",
    "                                                          \n",
    "    return(start_time,extreme_time,lag_time,rdi,RDI)"
   ]
  },
  {
   "cell_type": "markdown",
   "metadata": {},
   "source": [
    "## 2.7 FREQUENCY_OF_OCCURRENCE 函数"
   ]
  },
  {
   "cell_type": "code",
   "execution_count": 9,
   "metadata": {},
   "outputs": [],
   "source": [
    "def FREQUENCY_OF_OCCURRENCE():\n",
    "    \n",
    "    # 转变成只有骤旱发生与否的信号数据框\n",
    "    month_signal = RDI.copy()\n",
    "    for i,j in start_time:\n",
    "        month_signal.iloc[i,j] = 1\n",
    "    month_signal[month_signal != 1] = 0\n",
    "\n",
    "    # 各个月份的起始时间点\n",
    "    month_start_time = np.cumsum([7,6,6,6,6,6,6,6,6]).tolist()\n",
    "    month_start_time.insert(0,0)\n",
    "\n",
    "    # 各个月骤旱频次\n",
    "    month_foc = pd.DataFrame()\n",
    "    for i in range(9):\n",
    "        month_foc_tem = month_signal.iloc[:,(month_start_time[i]+1):(month_start_time[i + 1]+1)].sum(axis = 1)\n",
    "        month_foc = pd.concat([month_foc,month_foc_tem],axis = 1)\n",
    "    \n",
    "    month_foc.columns = [str(i) + \"月\" for i in range(3,12)]\n",
    "    month_foc.index = list(range(1961,2019))\n",
    "    \n",
    "    \"\"\"========================\"\"\"\n",
    "    \n",
    "    # 各个季节骤旱频次\n",
    "    season_foc = pd.concat([month_foc.iloc[:,0:4].sum(axis=1),month_foc.iloc[:,4:7].sum(axis=1),month_foc.iloc[:,7:10].sum(axis=1)],axis = 1)\n",
    "    season_foc.columns = [\"春季\",\"夏季\",\"秋季\"] \n",
    "    season_foc\n",
    "    \n",
    "    \"\"\"========================\"\"\"\n",
    "    \n",
    "    # 将rdi分区间等级\n",
    "    rdi_level = pd.cut(rdi,bins = [-100,-2.5,-2,-1.5,-1,0],labels = [4,3,2,1,0])\n",
    "\n",
    "    # 填充各等级频次的逐年变化数据框\n",
    "    level_foc = pd.DataFrame(np.zeros(58 * 5).reshape(58,5),columns = [0,1,2,3,4],index = list(range(1961,2019)))\n",
    "    for x,y in zip(start_time,rdi_level):\n",
    "        level_foc.iloc[x[0],y] = level_foc.iloc[x[0],y] + 1\n",
    "    level_foc.columns = [\"level_\" + str(i) for i in range(1,6)]\n",
    "    \n",
    "    return(month_foc, season_foc, level_foc)"
   ]
  },
  {
   "cell_type": "markdown",
   "metadata": {},
   "source": [
    "## 2.8 对象文件"
   ]
  },
  {
   "cell_type": "code",
   "execution_count": 10,
   "metadata": {},
   "outputs": [
    {
     "data": {
      "text/plain": [
       "'F:\\\\Data\\\\soil_water_content\\\\site'"
      ]
     },
     "execution_count": 10,
     "metadata": {},
     "output_type": "execute_result"
    }
   ],
   "source": [
    "#设置工作路径\n",
    "os.chdir(\"F:/Data/soil_water_content/site\")\n",
    "os.getcwd()"
   ]
  },
  {
   "cell_type": "code",
   "execution_count": 15,
   "metadata": {},
   "outputs": [
    {
     "data": {
      "text/plain": [
       "['site_53968.csv',\n",
       " 'site_53975.csv',\n",
       " 'site_53986.csv',\n",
       " 'site_54012.csv',\n",
       " 'site_54026.csv',\n",
       " 'site_54027.csv',\n",
       " 'site_54041.csv',\n",
       " 'site_54049.csv',\n",
       " 'site_54063.csv',\n",
       " 'site_54064.csv',\n",
       " 'site_54094.csv',\n",
       " 'site_54096.csv',\n",
       " 'site_54102.csv',\n",
       " 'site_54115.csv',\n",
       " 'site_54134.csv',\n",
       " 'site_54135.csv',\n",
       " 'site_54142.csv',\n",
       " 'site_54157.csv',\n",
       " 'site_54161.csv',\n",
       " 'site_54165.csv',\n",
       " 'site_54181.csv',\n",
       " 'site_54186.csv',\n",
       " 'site_54195.csv',\n",
       " 'site_54208.csv',\n",
       " 'site_54213.csv',\n",
       " 'site_54218.csv',\n",
       " 'site_54226.csv',\n",
       " 'site_54236.csv',\n",
       " 'site_54243.csv',\n",
       " 'site_54254.csv',\n",
       " 'site_54259.csv',\n",
       " 'site_54260.csv',\n",
       " 'site_54263.csv',\n",
       " 'site_54266.csv',\n",
       " 'site_54273.csv',\n",
       " 'site_54276.csv',\n",
       " 'site_54284.csv']"
      ]
     },
     "execution_count": 15,
     "metadata": {},
     "output_type": "execute_result"
    }
   ],
   "source": [
    "#获取文件名\n",
    "list_names = os.listdir()[173:210]\n",
    "list_names "
   ]
  },
  {
   "cell_type": "markdown",
   "metadata": {},
   "source": [
    "## 2.9 返回结果"
   ]
  },
  {
   "cell_type": "code",
   "execution_count": 16,
   "metadata": {
    "scrolled": true
   },
   "outputs": [
    {
     "name": "stdout",
     "output_type": "stream",
     "text": [
      "Creating new site_54266...\n",
      "Filling the 1th column of swc_cdf\n",
      "Fitted alpha distribution with error=10476.532933485581)\n",
      "Fitted anglit distribution with error=21650.286570062362)\n",
      "Fitted arcsine distribution with error=18943.338882470158)\n",
      "Fitted argus distribution with error=16830.860952850002)\n",
      "Fitted beta distribution with error=10677.445852013805)\n",
      "Fitted betaprime distribution with error=10543.711996127215)\n",
      "Fitted bradford distribution with error=15430.619155970156)\n",
      "Fitted burr distribution with error=9807.278602348366)\n",
      "Fitted burr12 distribution with error=9734.477253075776)\n",
      "Fitted cauchy distribution with error=8619.742541396668)\n",
      "Fitted chi distribution with error=20287.13729384975)\n",
      "Fitted chi2 distribution with error=20747.85250052399)\n",
      "Fitted cosine distribution with error=21650.286570062362)\n",
      "Fitted crystalball distribution with error=11105.738463130458)\n",
      "Fitted dgamma distribution with error=8334.606732817198)\n",
      "Fitted dweibull distribution with error=8466.682423399916)\n",
      "Fitted expon distribution with error=16470.70955996936)\n",
      "Fitted exponnorm distribution with error=10000.420691308513)\n",
      "Fitted exponpow distribution with error=19784.645418733708)\n",
      "Fitted exponweib distribution with error=20700.4684407009)\n",
      "Fitted exponpow distribution with error=19784.645418733708)\n",
      "Fitted f distribution with error=10546.066086626866)\n",
      "Fitted fatiguelife distribution with error=10633.139328463869)\n",
      "Fitted fisk distribution with error=9712.998732129889)\n",
      "Fitted foldcauchy distribution with error=8530.232798721307)\n",
      "Fitted foldnorm distribution with error=14322.230354303214)\n",
      "Fitted frechet_r distribution with error=19124.16603112885)\n",
      "Fitted frechet_l distribution with error=10698.070313377808)\n",
      "Fitted genlogistic distribution with error=9961.563849848091)\n",
      "Fitted gennorm distribution with error=8402.981648388215)\n",
      "Fitted genextreme distribution with error=10627.032116695584)\n",
      "Fitted gausshyper distribution with error=15319.382403250413)\n",
      "Fitted gamma distribution with error=20087.344337219958)\n",
      "Fitted gengamma distribution with error=20077.798349213423)\n",
      "Fitted genhalflogistic distribution with error=19786.386948497184)\n",
      "Fitted genlogistic distribution with error=9961.563849848091)\n",
      "Fitted genpareto distribution with error=18319.418718448993)\n",
      "Fitted gompertz distribution with error=13103.09028761704)\n",
      "Fitted gilbrat distribution with error=15054.536417624122)\n",
      "Fitted gumbel_r distribution with error=10684.046335137482)\n",
      "Fitted gumbel_l distribution with error=14166.215983238497)\n",
      "Fitted halfcauchy distribution with error=15935.53239646529)\n",
      "Fitted halfgennorm distribution with error=16947.55703269575)\n",
      "Fitted halflogistic distribution with error=14774.308811392266)\n",
      "Fitted halfnorm distribution with error=14323.658769520625)\n",
      "Fitted hypsecant distribution with error=9082.226202636115)\n",
      "Fitted invgauss distribution with error=10634.373882533728)\n",
      "Fitted invgamma distribution with error=10542.71491872021)\n",
      "Fitted invgauss distribution with error=10634.373882533728)\n",
      "Fitted invweibull distribution with error=10682.086697005638)\n",
      "Fitted johnsonsb distribution with error=10584.597590483758)\n",
      "Fitted johnsonsu distribution with error=8595.207952451605)\n",
      "Fitted kappa4 distribution with error=16167.961660455238)\n",
      "Fitted kappa3 distribution with error=16111.881302500526)\n",
      "Fitted ksone distribution with error=16629.071074912048)\n",
      "Fitted laplace distribution with error=8595.316083337133)\n",
      "Fitted logistic distribution with error=9439.67520031422)\n",
      "Fitted loggamma distribution with error=11334.171809595313)\n",
      "Fitted loglaplace distribution with error=8790.05141359284)\n",
      "Fitted lognorm distribution with error=10585.025661333493)\n",
      "Fitted lomax distribution with error=16585.266735944315)\n",
      "Fitted maxwell distribution with error=10900.638931545122)\n",
      "Fitted mielke distribution with error=9831.161844039769)\n",
      "Fitted moyal distribution with error=11368.930404980185)\n",
      "Fitted nakagami distribution with error=11003.748336306877)\n",
      "Fitted ncx2 distribution with error=20189.309239269296)\n",
      "Fitted ncf distribution with error=19175.244243803125)\n",
      "Fitted nct distribution with error=10458.293785318696)\n",
      "Fitted norm distribution with error=11105.728524290063)\n",
      "Fitted norminvgauss distribution with error=8773.162309808627)\n",
      "Fitted pareto distribution with error=17077.113285319127)\n",
      "Fitted pearson3 distribution with error=10687.063366159773)\n",
      "Fitted powerlaw distribution with error=16071.905901771835)\n",
      "Fitted powerlognorm distribution with error=10590.146133872378)\n",
      "Fitted powernorm distribution with error=11000.132104022976)\n",
      "Fitted rayleigh distribution with error=11455.962186141307)\n",
      "Fitted rice distribution with error=11454.40972279333)\n",
      "Fitted semicircular distribution with error=21650.286570062362)\n",
      "Fitted skewnorm distribution with error=10692.853148183192)\n",
      "Fitted t distribution with error=8657.885679275907)\n",
      "Fitted trapz distribution with error=19741.10123471576)\n",
      "Fitted triang distribution with error=12887.237293807973)\n",
      "Fitted truncexpon distribution with error=15159.803917602123)\n",
      "Fitted truncnorm distribution with error=21650.286570062362)\n",
      "Fitted tukeylambda distribution with error=13682.309131731929)\n",
      "Fitted uniform distribution with error=16295.024509644012)\n",
      "Fitted vonmises_line distribution with error=21650.286570062362)\n",
      "Fitted wald distribution with error=14764.108958210449)\n",
      "Fitted weibull_min distribution with error=19124.16603112885)\n",
      "Fitted weibull_max distribution with error=10698.070313377808)\n",
      "Filling the 2th column of swc_cdf\n",
      "Fitted alpha distribution with error=12538.14310865987)\n",
      "Fitted anglit distribution with error=25085.196701385612)\n",
      "Fitted arcsine distribution with error=21138.65639847556)\n",
      "Fitted argus distribution with error=19741.029920871057)\n",
      "Fitted beta distribution with error=13086.688284042339)\n",
      "Fitted betaprime distribution with error=12647.216252872362)\n",
      "Fitted bradford distribution with error=17417.077734556737)\n",
      "Fitted burr distribution with error=12074.09721913775)\n",
      "Fitted burr12 distribution with error=11595.975592535511)\n",
      "Fitted cauchy distribution with error=9718.32039637536)\n",
      "Fitted chi distribution with error=21934.765719590538)\n",
      "Fitted chi2 distribution with error=23586.581331906484)\n",
      "Fitted cosine distribution with error=25085.196701385612)\n",
      "Fitted crystalball distribution with error=13328.783149521922)\n",
      "Fitted dgamma distribution with error=9697.933551838181)\n",
      "Fitted dweibull distribution with error=9779.825273982357)\n",
      "Fitted expon distribution with error=17828.407116922663)\n",
      "Fitted exponnorm distribution with error=11908.918102149793)\n",
      "Fitted exponpow distribution with error=21592.344425398616)\n",
      "Fitted exponweib distribution with error=22308.44539393501)\n",
      "Fitted exponpow distribution with error=21592.344425398616)\n",
      "Fitted f distribution with error=12644.62095111007)\n",
      "Fitted fatiguelife distribution with error=12793.654027295386)\n",
      "Fitted fisk distribution with error=11619.860678625917)\n",
      "Fitted foldcauchy distribution with error=9714.499605966677)\n",
      "Fitted foldnorm distribution with error=15443.463171830486)\n",
      "Fitted frechet_r distribution with error=21443.75064988336)\n",
      "Fitted frechet_l distribution with error=12573.721366799258)\n",
      "Fitted genlogistic distribution with error=12075.722001721295)\n",
      "Fitted gennorm distribution with error=9711.94751605032)\n",
      "Fitted genextreme distribution with error=12689.369379706286)\n",
      "Fitted gausshyper distribution with error=17100.776959821495)\n",
      "Fitted gamma distribution with error=21370.09090956065)\n",
      "Fitted gengamma distribution with error=22231.49945150771)\n",
      "Fitted genhalflogistic distribution with error=15119.092961334021)\n",
      "Fitted genlogistic distribution with error=12075.722001721295)\n",
      "Fitted genpareto distribution with error=21305.01569456779)\n",
      "Fitted gompertz distribution with error=15326.95416533824)\n",
      "Fitted gilbrat distribution with error=17022.290181791373)\n",
      "Fitted gumbel_r distribution with error=12571.95669424144)\n",
      "Fitted gumbel_l distribution with error=16879.627927868125)\n",
      "Fitted halfcauchy distribution with error=17510.601163729116)\n",
      "Fitted halfgennorm distribution with error=15230.267310107414)\n",
      "Fitted halflogistic distribution with error=15964.399656811527)\n",
      "Fitted halfnorm distribution with error=15443.955717993696)\n",
      "Fitted hypsecant distribution with error=10682.18811349231)\n",
      "Fitted invgauss distribution with error=12795.910218958566)\n",
      "Fitted invgamma distribution with error=12346.518725331418)\n",
      "Fitted invgauss distribution with error=12795.910218958566)\n",
      "Fitted invweibull distribution with error=12689.650421841223)\n"
     ]
    },
    {
     "name": "stdout",
     "output_type": "stream",
     "text": [
      "Fitted johnsonsb distribution with error=12713.171883635021)\n",
      "Fitted johnsonsu distribution with error=9740.376744596675)\n",
      "Fitted kappa4 distribution with error=18649.184317245494)\n",
      "Fitted kappa3 distribution with error=14255.896936442752)\n",
      "Fitted ksone distribution with error=20903.049591116134)\n",
      "Fitted laplace distribution with error=9978.077581995853)\n",
      "Fitted logistic distribution with error=11186.865024544193)\n",
      "Fitted loggamma distribution with error=13532.35585041688)\n",
      "Fitted loglaplace distribution with error=10176.223549176497)\n",
      "Fitted lognorm distribution with error=12718.342062123831)\n",
      "Fitted lomax distribution with error=17721.30263370954)\n",
      "Fitted maxwell distribution with error=12860.022408654213)\n",
      "Fitted mielke distribution with error=11790.498355857359)\n",
      "Fitted moyal distribution with error=13355.777981434065)\n",
      "Fitted nakagami distribution with error=13454.528129704657)\n",
      "Fitted ncx2 distribution with error=22041.986896147733)\n"
     ]
    },
    {
     "ename": "KeyboardInterrupt",
     "evalue": "",
     "output_type": "error",
     "traceback": [
      "\u001b[1;31m---------------------------------------------------------------------------\u001b[0m",
      "\u001b[1;31mKeyboardInterrupt\u001b[0m                         Traceback (most recent call last)",
      "\u001b[1;32m<ipython-input-16-66bce65876b0>\u001b[0m in \u001b[0;36m<module>\u001b[1;34m\u001b[0m\n\u001b[0;32m     11\u001b[0m     \u001b[0mswc_5day_average_T\u001b[0m \u001b[1;33m=\u001b[0m \u001b[0mSWC_5DAT_AVERAGE_T\u001b[0m\u001b[1;33m(\u001b[0m\u001b[1;33m)\u001b[0m\u001b[1;33m\u001b[0m\u001b[1;33m\u001b[0m\u001b[0m\n\u001b[0;32m     12\u001b[0m \u001b[1;33m\u001b[0m\u001b[0m\n\u001b[1;32m---> 13\u001b[1;33m     \u001b[0mswc_cdf\u001b[0m \u001b[1;33m=\u001b[0m \u001b[0mSWC_CDF\u001b[0m\u001b[1;33m(\u001b[0m\u001b[1;33m)\u001b[0m\u001b[1;33m\u001b[0m\u001b[1;33m\u001b[0m\u001b[0m\n\u001b[0m\u001b[0;32m     14\u001b[0m     \u001b[0mswc_cdf\u001b[0m\u001b[1;33m.\u001b[0m\u001b[0mto_pickle\u001b[0m\u001b[1;33m(\u001b[0m\u001b[1;34m\"F:/Data/flash_drought/SWC_CDF/\"\u001b[0m \u001b[1;33m+\u001b[0m \u001b[0msite_name\u001b[0m\u001b[1;33m[\u001b[0m\u001b[1;33m:\u001b[0m\u001b[1;33m-\u001b[0m\u001b[1;36m4\u001b[0m\u001b[1;33m]\u001b[0m \u001b[1;33m+\u001b[0m \u001b[1;34m\".pickle\"\u001b[0m\u001b[1;33m)\u001b[0m\u001b[1;33m\u001b[0m\u001b[1;33m\u001b[0m\u001b[0m\n\u001b[0;32m     15\u001b[0m \u001b[1;33m\u001b[0m\u001b[0m\n",
      "\u001b[1;32m<ipython-input-6-19ff81415501>\u001b[0m in \u001b[0;36mSWC_CDF\u001b[1;34m()\u001b[0m\n\u001b[0;32m      8\u001b[0m     \u001b[1;32mfor\u001b[0m \u001b[0mi\u001b[0m \u001b[1;32min\u001b[0m \u001b[0mrange\u001b[0m\u001b[1;33m(\u001b[0m\u001b[1;36m1\u001b[0m\u001b[1;33m,\u001b[0m\u001b[1;36m56\u001b[0m\u001b[1;33m)\u001b[0m\u001b[1;33m:\u001b[0m\u001b[1;33m\u001b[0m\u001b[1;33m\u001b[0m\u001b[0m\n\u001b[0;32m      9\u001b[0m         \u001b[0mprint\u001b[0m\u001b[1;33m(\u001b[0m\u001b[1;34m\"Filling the \"\u001b[0m \u001b[1;33m+\u001b[0m \u001b[0mstr\u001b[0m\u001b[1;33m(\u001b[0m\u001b[0mi\u001b[0m\u001b[1;33m)\u001b[0m \u001b[1;33m+\u001b[0m \u001b[1;34m\"th column of swc_cdf\"\u001b[0m\u001b[1;33m)\u001b[0m\u001b[1;33m\u001b[0m\u001b[1;33m\u001b[0m\u001b[0m\n\u001b[1;32m---> 10\u001b[1;33m         \u001b[0mswc_cdf\u001b[0m\u001b[1;33m.\u001b[0m\u001b[0miloc\u001b[0m\u001b[1;33m[\u001b[0m\u001b[1;33m:\u001b[0m\u001b[1;33m,\u001b[0m\u001b[0mi\u001b[0m\u001b[1;33m]\u001b[0m \u001b[1;33m=\u001b[0m \u001b[0mcdf_select_function\u001b[0m\u001b[1;33m(\u001b[0m\u001b[0mswc_5day_average_T\u001b[0m\u001b[1;33m.\u001b[0m\u001b[0miloc\u001b[0m\u001b[1;33m[\u001b[0m\u001b[1;33m:\u001b[0m\u001b[1;33m,\u001b[0m\u001b[0mi\u001b[0m\u001b[1;33m]\u001b[0m\u001b[1;33m)\u001b[0m\u001b[1;33m\u001b[0m\u001b[1;33m\u001b[0m\u001b[0m\n\u001b[0m\u001b[0;32m     11\u001b[0m \u001b[1;33m\u001b[0m\u001b[0m\n\u001b[0;32m     12\u001b[0m     \u001b[1;32mreturn\u001b[0m\u001b[1;33m(\u001b[0m\u001b[0mswc_cdf\u001b[0m\u001b[1;33m)\u001b[0m\u001b[1;33m\u001b[0m\u001b[1;33m\u001b[0m\u001b[0m\n",
      "\u001b[1;32m<ipython-input-5-ad4b1b31eb95>\u001b[0m in \u001b[0;36mcdf_select_function\u001b[1;34m(x)\u001b[0m\n\u001b[0;32m     21\u001b[0m                   \"wald\",\"weibull_min\",\"weibull_max\"]\n\u001b[0;32m     22\u001b[0m     \u001b[0mf\u001b[0m \u001b[1;33m=\u001b[0m \u001b[0mFitter\u001b[0m\u001b[1;33m(\u001b[0m\u001b[0mx\u001b[0m\u001b[1;33m,\u001b[0m\u001b[0mdistributions\u001b[0m \u001b[1;33m=\u001b[0m \u001b[0mdistribution\u001b[0m\u001b[1;33m)\u001b[0m\u001b[1;33m\u001b[0m\u001b[1;33m\u001b[0m\u001b[0m\n\u001b[1;32m---> 23\u001b[1;33m     \u001b[0mf\u001b[0m\u001b[1;33m.\u001b[0m\u001b[0mfit\u001b[0m\u001b[1;33m(\u001b[0m\u001b[1;33m)\u001b[0m\u001b[1;33m\u001b[0m\u001b[1;33m\u001b[0m\u001b[0m\n\u001b[0m\u001b[0;32m     24\u001b[0m \u001b[1;33m\u001b[0m\u001b[0m\n\u001b[0;32m     25\u001b[0m     \u001b[1;31m# 保证分布下的分位数没有缺失值\u001b[0m\u001b[1;33m\u001b[0m\u001b[1;33m\u001b[0m\u001b[1;33m\u001b[0m\u001b[0m\n",
      "\u001b[1;32mF:\\anaconda\\lib\\site-packages\\fitter\\fitter.py\u001b[0m in \u001b[0;36mfit\u001b[1;34m(self, amp)\u001b[0m\n\u001b[0;32m    265\u001b[0m                 \u001b[1;31m# See timed_run function above\u001b[0m\u001b[1;33m\u001b[0m\u001b[1;33m\u001b[0m\u001b[1;33m\u001b[0m\u001b[0m\n\u001b[0;32m    266\u001b[0m                 param = self._timed_run(\n\u001b[1;32m--> 267\u001b[1;33m                     dist.fit, distribution, args=self._data)\n\u001b[0m\u001b[0;32m    268\u001b[0m \u001b[1;33m\u001b[0m\u001b[0m\n\u001b[0;32m    269\u001b[0m                 \u001b[1;31m# with signal, does not work. maybe because another expection is caught\u001b[0m\u001b[1;33m\u001b[0m\u001b[1;33m\u001b[0m\u001b[1;33m\u001b[0m\u001b[0m\n",
      "\u001b[1;32mF:\\anaconda\\lib\\site-packages\\fitter\\fitter.py\u001b[0m in \u001b[0;36m_timed_run\u001b[1;34m(self, func, distribution, args, kwargs, default)\u001b[0m\n\u001b[0;32m    401\u001b[0m         \u001b[0mit\u001b[0m\u001b[1;33m.\u001b[0m\u001b[0mstart\u001b[0m\u001b[1;33m(\u001b[0m\u001b[1;33m)\u001b[0m\u001b[1;33m\u001b[0m\u001b[1;33m\u001b[0m\u001b[0m\n\u001b[0;32m    402\u001b[0m         \u001b[0mstarted_at\u001b[0m \u001b[1;33m=\u001b[0m \u001b[0mdatetime\u001b[0m\u001b[1;33m.\u001b[0m\u001b[0mnow\u001b[0m\u001b[1;33m(\u001b[0m\u001b[1;33m)\u001b[0m\u001b[1;33m\u001b[0m\u001b[1;33m\u001b[0m\u001b[0m\n\u001b[1;32m--> 403\u001b[1;33m         \u001b[0mit\u001b[0m\u001b[1;33m.\u001b[0m\u001b[0mjoin\u001b[0m\u001b[1;33m(\u001b[0m\u001b[0mself\u001b[0m\u001b[1;33m.\u001b[0m\u001b[0mtimeout\u001b[0m\u001b[1;33m)\u001b[0m\u001b[1;33m\u001b[0m\u001b[1;33m\u001b[0m\u001b[0m\n\u001b[0m\u001b[0;32m    404\u001b[0m         \u001b[0mended_at\u001b[0m \u001b[1;33m=\u001b[0m \u001b[0mdatetime\u001b[0m\u001b[1;33m.\u001b[0m\u001b[0mnow\u001b[0m\u001b[1;33m(\u001b[0m\u001b[1;33m)\u001b[0m\u001b[1;33m\u001b[0m\u001b[1;33m\u001b[0m\u001b[0m\n\u001b[0;32m    405\u001b[0m         \u001b[0mdiff\u001b[0m \u001b[1;33m=\u001b[0m \u001b[0mended_at\u001b[0m \u001b[1;33m-\u001b[0m \u001b[0mstarted_at\u001b[0m\u001b[1;33m\u001b[0m\u001b[1;33m\u001b[0m\u001b[0m\n",
      "\u001b[1;32mF:\\anaconda\\lib\\threading.py\u001b[0m in \u001b[0;36mjoin\u001b[1;34m(self, timeout)\u001b[0m\n\u001b[0;32m   1034\u001b[0m             \u001b[1;31m# the behavior of a negative timeout isn't documented, but\u001b[0m\u001b[1;33m\u001b[0m\u001b[1;33m\u001b[0m\u001b[1;33m\u001b[0m\u001b[0m\n\u001b[0;32m   1035\u001b[0m             \u001b[1;31m# historically .join(timeout=x) for x<0 has acted as if timeout=0\u001b[0m\u001b[1;33m\u001b[0m\u001b[1;33m\u001b[0m\u001b[1;33m\u001b[0m\u001b[0m\n\u001b[1;32m-> 1036\u001b[1;33m             \u001b[0mself\u001b[0m\u001b[1;33m.\u001b[0m\u001b[0m_wait_for_tstate_lock\u001b[0m\u001b[1;33m(\u001b[0m\u001b[0mtimeout\u001b[0m\u001b[1;33m=\u001b[0m\u001b[0mmax\u001b[0m\u001b[1;33m(\u001b[0m\u001b[0mtimeout\u001b[0m\u001b[1;33m,\u001b[0m \u001b[1;36m0\u001b[0m\u001b[1;33m)\u001b[0m\u001b[1;33m)\u001b[0m\u001b[1;33m\u001b[0m\u001b[1;33m\u001b[0m\u001b[0m\n\u001b[0m\u001b[0;32m   1037\u001b[0m \u001b[1;33m\u001b[0m\u001b[0m\n\u001b[0;32m   1038\u001b[0m     \u001b[1;32mdef\u001b[0m \u001b[0m_wait_for_tstate_lock\u001b[0m\u001b[1;33m(\u001b[0m\u001b[0mself\u001b[0m\u001b[1;33m,\u001b[0m \u001b[0mblock\u001b[0m\u001b[1;33m=\u001b[0m\u001b[1;32mTrue\u001b[0m\u001b[1;33m,\u001b[0m \u001b[0mtimeout\u001b[0m\u001b[1;33m=\u001b[0m\u001b[1;33m-\u001b[0m\u001b[1;36m1\u001b[0m\u001b[1;33m)\u001b[0m\u001b[1;33m:\u001b[0m\u001b[1;33m\u001b[0m\u001b[1;33m\u001b[0m\u001b[0m\n",
      "\u001b[1;32mF:\\anaconda\\lib\\threading.py\u001b[0m in \u001b[0;36m_wait_for_tstate_lock\u001b[1;34m(self, block, timeout)\u001b[0m\n\u001b[0;32m   1046\u001b[0m         \u001b[1;32mif\u001b[0m \u001b[0mlock\u001b[0m \u001b[1;32mis\u001b[0m \u001b[1;32mNone\u001b[0m\u001b[1;33m:\u001b[0m  \u001b[1;31m# already determined that the C code is done\u001b[0m\u001b[1;33m\u001b[0m\u001b[1;33m\u001b[0m\u001b[0m\n\u001b[0;32m   1047\u001b[0m             \u001b[1;32massert\u001b[0m \u001b[0mself\u001b[0m\u001b[1;33m.\u001b[0m\u001b[0m_is_stopped\u001b[0m\u001b[1;33m\u001b[0m\u001b[1;33m\u001b[0m\u001b[0m\n\u001b[1;32m-> 1048\u001b[1;33m         \u001b[1;32melif\u001b[0m \u001b[0mlock\u001b[0m\u001b[1;33m.\u001b[0m\u001b[0macquire\u001b[0m\u001b[1;33m(\u001b[0m\u001b[0mblock\u001b[0m\u001b[1;33m,\u001b[0m \u001b[0mtimeout\u001b[0m\u001b[1;33m)\u001b[0m\u001b[1;33m:\u001b[0m\u001b[1;33m\u001b[0m\u001b[1;33m\u001b[0m\u001b[0m\n\u001b[0m\u001b[0;32m   1049\u001b[0m             \u001b[0mlock\u001b[0m\u001b[1;33m.\u001b[0m\u001b[0mrelease\u001b[0m\u001b[1;33m(\u001b[0m\u001b[1;33m)\u001b[0m\u001b[1;33m\u001b[0m\u001b[1;33m\u001b[0m\u001b[0m\n\u001b[0;32m   1050\u001b[0m             \u001b[0mself\u001b[0m\u001b[1;33m.\u001b[0m\u001b[0m_stop\u001b[0m\u001b[1;33m(\u001b[0m\u001b[1;33m)\u001b[0m\u001b[1;33m\u001b[0m\u001b[1;33m\u001b[0m\u001b[0m\n",
      "\u001b[1;31mKeyboardInterrupt\u001b[0m: "
     ]
    },
    {
     "data": {
      "image/png": "[encoded data removed]",
      "text/plain": [
       "<Figure size 432x288 with 1 Axes>"
      ]
     },
     "metadata": {
      "needs_background": "light"
     },
     "output_type": "display_data"
    }
   ],
   "source": [
    "start = time.time()\n",
    "#逐一转化文件\n",
    "\n",
    "for site_name in list_names :\n",
    "    print(\"Creating new \" + site_name[:-4] + \"...\")\n",
    "    \n",
    "    SWC = pd.read_csv(site_name,sep = \",\")\n",
    "    \n",
    "    swc_5day_average = SWC_5DAY_AVERAGE()\n",
    "    \n",
    "    swc_5day_average_T = SWC_5DAT_AVERAGE_T()\n",
    "    \n",
    "    swc_cdf = SWC_CDF()\n",
    "    swc_cdf.to_pickle(\"F:/Data/flash_drought/SWC_CDF/\" + site_name[:-4] + \".pickle\")\n",
    "    \n",
    "    swc_cdfchange_cdf = SWC_CDFCHANGE_CDF()\n",
    "    swc_cdfchange_cdf.to_pickle(\"F:/Data/flash_drought/SWC_CDFCHANGE_CDF/\" + site_name[:-4] + \".pickle\")\n",
    "    \n",
    "    start_time, extreme_time, lag_time, rdi, RDI = FLASH_DROUGHT_INDENTIFY()\n",
    "    pd.DataFrame(np.array(start_time), columns = [site_name[:-4] + \"_Year\",site_name[:-4] + \"_Season\"]).to_pickle(\"F:/Data/flash_drought/START_TIME/\" + site_name[:-4] + \".pickle\")\n",
    "    pd.DataFrame(np.array(extreme_time), columns = [site_name[:-4] + \"_Year\",site_name[:-4] + \"_Season\"]).to_pickle(\"F:/Data/flash_drought/EXTREME_TIME/\" + site_name[:-4] + \".pickle\")\n",
    "    pd.DataFrame(np.array(lag_time), columns = [site_name[:-4] + \"_Year\",site_name[:-4] + \"_Season\"]).to_pickle(\"F:/Data/flash_drought/LAG_TIME/\" + site_name[:-4] + \".pickle\")\n",
    "    pd.DataFrame(np.array(rdi), columns = [site_name[:-4]]).to_pickle(\"F:/Data/flash_drought/RDI/\" + site_name[:-4] + \".pickle\")\n",
    "    \n",
    "    month_foc, season_foc, level_foc = FREQUENCY_OF_OCCURRENCE()\n",
    "    month_foc.to_pickle(\"F:/Data/flash_drought/MONTH_FOC/\" + site_name[:-4] + \".pickle\")\n",
    "    season_foc.to_pickle(\"F:/Data/flash_drought/SEASON_FOC/\" + site_name[:-4] + \".pickle\")\n",
    "    level_foc.to_pickle(\"F:/Data/flash_drought/LEVEL_FOC/\" + site_name[:-4] + \".pickle\")\n",
    "    \n",
    "    clear()\n",
    "    \n",
    "    del SWC, swc_5day_average, swc_5day_average_T, swc_cdf, swc_cdfchange_cdf, start_time, extreme_time, lag_time, rdi, RDI, month_foc, season_foc, level_foc\n",
    "    \n",
    "end = time.time()"
   ]
  },
  {
   "cell_type": "code",
   "execution_count": 13,
   "metadata": {},
   "outputs": [
    {
     "name": "stdout",
     "output_type": "stream",
     "text": [
      "45594.40635728836\n"
     ]
    }
   ],
   "source": [
    "# 最后清理最快\n",
    "print(end - start)\n",
    "\n",
    "#print(START_TIME)\n",
    "#print(EXTREME_TIME)\n",
    "#print(foc)"
   ]
  },
  {
   "cell_type": "markdown",
   "metadata": {},
   "source": [
    "# 3 图解骤旱定义"
   ]
  },
  {
   "cell_type": "code",
   "execution_count": 301,
   "metadata": {},
   "outputs": [],
   "source": [
    "swc_cdf = pd.read_pickle(\"F:/Data/flash_drought/SWC_CDF/site_50136.pickle\")\n",
    "swc_cdfchange_cdf = pd.read_pickle(\"F:/Data/flash_drought/SWC_CDFCHANGE_CDF/site_50136.pickle\")\n",
    "\n",
    "start_time = pd.read_pickle(\"F:/Data/flash_drought/START_TIME/site_50136.pickle\")\n",
    "extreme_time = pd.read_pickle(\"F:/Data/flash_drought/EXTREME_TIME/site_50136.pickle\")\n",
    "lag_time = pd.read_pickle(\"F:/Data/flash_drought/LAG_TIME/site_50136.pickle\")\n",
    "rdi = pd.read_pickle(\"F:/Data/flash_drought/RDI/site_50136.pickle\")"
   ]
  },
  {
   "cell_type": "markdown",
   "metadata": {},
   "source": [
    "## 3.1 change_cdf的计算意义"
   ]
  },
  {
   "cell_type": "code",
   "execution_count": null,
   "metadata": {},
   "outputs": [],
   "source": [
    "# 研究时段\n",
    "x = swc_cdf.iloc[9, 14:22].index\n",
    "y = swc_cdf.iloc[9, 14:22]\n",
    "plt.figure(figsize=(6,4), dpi= 120)\n",
    "plt.plot(x,y)\n",
    "plt.locator_params(nbins = 10)\n",
    "\n",
    "# cdf的变动范围\n",
    "plt.plot([0, 1,],[0.6940191800554398, 0.6940191800554398-0.3579772061777991,],'k--', linewidth=1)\n",
    "plt.plot([0, 1,],[0.6940191800554398, 1,],'k--', linewidth=1)\n",
    "plt.fill_between([0, 1,],[0.6940191800554398, 1,],[0.6940191800554398, 0.6940191800554398-0.3579772061777991,],alpha = 0.3)\n",
    "\n",
    "# 注释change_cdf\n",
    "plt.text(0,0.5,\"0.017\",fontsize = 8)\n",
    "plt.text(0.3,0.72,\"0.84\",fontsize = 8)\n",
    "plt.text(0.1,0.85,\"0.99\",fontsize = 9)\n",
    "\n",
    "plt.text(1.4,0.65,\"0.07\",fontsize = 9)\n",
    "plt.text(2.3,0.55,\"0.34\",fontsize = 9)\n",
    "plt.text(3.3,0.5,\"0.25\",fontsize = 9)\n",
    "plt.text(4.3,0.43,\"0.23\",fontsize = 9)\n",
    "plt.text(5.3,0.29,\"0.07\",fontsize = 9)\n",
    "plt.text(6.3,0.18,\"0.49\",fontsize = 9)\n",
    "\n",
    "# 注明非骤过程的线段\n",
    "plt.plot([0, 1,],[y[0], y[1],],'k', linewidth=2)\n",
    "plt.plot([6, 7,],[y[6], y[7],],'k', linewidth=2)\n",
    "\n",
    "# 坐标轴名称\n",
    "plt.ylabel(\"soil water content percentile\")\n",
    "plt.xlabel(\"site 50136 in the year of 1970\")\n",
    "plt.grid()\n",
    "\n",
    "plt.savefig(\"F:/Data/flash_drought/why calculate change cdf.png\",dpi = 600)"
   ]
  },
  {
   "cell_type": "markdown",
   "metadata": {},
   "source": [
    "## 3.2 rdi能表征骤的严重程度"
   ]
  },
  {
   "cell_type": "code",
   "execution_count": null,
   "metadata": {},
   "outputs": [],
   "source": [
    "# rdi = -0.997\n",
    "x = swc_cdf.iloc[36, 34:39].index\n",
    "y = swc_cdf.iloc[36, 34:39]\n",
    "plt.figure(figsize=(4,3), dpi= 120)\n",
    "plt.plot(x,y)\n",
    "plt.grid()\n",
    "\n",
    "plt.ylabel(\"soil water content percentile\")\n",
    "plt.xlabel(\"rdi = -0.997 at the site 50136 in 1997 \")\n",
    "plt.savefig(\"F:/Data/flash_drought/rdi = -0.997.png\",dpi = 600)\n",
    "\n",
    "# rdi = -2.67\n",
    "x = swc_cdf.iloc[39, 12:19].index\n",
    "y = swc_cdf.iloc[39, 12:19]\n",
    "plt.figure(figsize=(4,3), dpi= 120)\n",
    "plt.plot(x,y)\n",
    "plt.grid()\n",
    "\n",
    "plt.ylabel(\"soil water content percentile\")\n",
    "plt.xlabel(\"rdi = -2.67 at the site 50136 in 2000 \")\n",
    "plt.savefig(\"F:/Data/flash_drought/rdi = -2.67.png\",dpi = 600)"
   ]
  },
  {
   "cell_type": "markdown",
   "metadata": {},
   "source": [
    "## 3.3 rdi与初始土壤湿润程度有关"
   ]
  },
  {
   "cell_type": "code",
   "execution_count": null,
   "metadata": {},
   "outputs": [],
   "source": [
    "# 骤过程土壤含水量百分位数下降值与rdi的关系\n",
    "swc_cdf_change_volume = []\n",
    "for x,y in zip(np.array(start_time),np.array(extreme_time)):\n",
    "    tem = swc_cdf.iloc[x[0],x[1]] - swc_cdf.iloc[y[0],y[1]]\n",
    "    swc_cdf_change_volume.append(tem)\n",
    "swc_cdf_change_volume\n",
    "\n",
    "x = rdi\n",
    "y = swc_cdf_change_volume\n",
    "lr = LinearRegression()\n",
    "lr.fit(x,y)\n",
    "print(lr.score(x,y))                                        # 决定系数\n",
    "print(rdi.iloc[:,0].corr(pd.Series(swc_cdf_change_volume))) # 相关系数\n",
    "y_hat = lr.predict(x)\n",
    "plt.scatter(x,y)\n",
    "plt.plot(x, y_hat)\n",
    "plt.xlabel(\"rdi\")\n",
    "plt.ylabel(\"onset-extreme swcp change\")\n",
    "plt.savefig(\"F:/Data/flash_drought/onset-extreme swcp change.png\",dpi = 600)"
   ]
  },
  {
   "cell_type": "code",
   "execution_count": null,
   "metadata": {
    "scrolled": true
   },
   "outputs": [],
   "source": [
    "# 骤旱起始土壤含水量百分位数与rdi的关系\n",
    "swc_cdf_start_volume = []\n",
    "for x in np.array(start_time):\n",
    "    tem = swc_cdf.iloc[x[0],x[1]]\n",
    "    swc_cdf_start_volume.append(tem)\n",
    "swc_cdf_start_volume\n",
    "\n",
    "x = rdi\n",
    "y = swc_cdf_start_volume\n",
    "lr = LinearRegression()\n",
    "lr.fit(x,y)\n",
    "print(lr.score(x,y))                                        # 决定系数\n",
    "print(rdi.iloc[:,0].corr(pd.Series(swc_cdf_start_volume))) # 相关系数\n",
    "y_hat = lr.predict(x)\n",
    "plt.scatter(x,y)\n",
    "plt.plot(x, y_hat)\n",
    "\n",
    "plt.xlabel(\"rdi\")\n",
    "plt.ylabel(\"flash drought onset swcp\")\n",
    "plt.savefig(\"F:/Data/flash_drought/flash drought onset swcp.png\",dpi = 600)"
   ]
  },
  {
   "cell_type": "markdown",
   "metadata": {},
   "source": [
    "## 3.4 骤旱末期可能会持续一段时间的干旱"
   ]
  },
  {
   "cell_type": "code",
   "execution_count": null,
   "metadata": {},
   "outputs": [],
   "source": [
    "# 输入原始数据\n",
    "extend_time = (lag_time - extreme_time).iloc[:,1] \n",
    "flash_time = (extreme_time - start_time).iloc[:,1] + 1\n",
    "\n",
    "x = list(range(len(extend_time)))\n",
    "y1 = flash_time\n",
    "y2 = extend_time\n",
    "\n",
    "# 绘制柱状图\n",
    "plt.figure(figsize=(7,5), dpi= 120)\n",
    "bar_1 = plt.bar(x,+y1,facecolor = \"#9999ff\",edgecolor = \"white\")\n",
    "bar_2 = plt.bar(x,-y2,facecolor = \"#ff9999\",edgecolor = \"white\")\n",
    "\n",
    "# 为柱加数值\n",
    "for i,j in zip(x,y1):\n",
    "    plt.text(i ,j + 0.01,\"%d\"% j ,ha = \"center\",va = \"bottom\",fontsize = 8) # ha为horizontal  alignment 水平对齐\n",
    "\n",
    "for i,j in zip(x,y2):\n",
    "    plt.text(i ,-j - 0.01,\"%d\"% j ,ha = \"center\",va = \"top\",fontsize = 8) # va为vertical  alignment 垂直对齐\n",
    "\n",
    "# 添加图例\n",
    "plt.legend(handles = [bar_1,bar_2,],labels = [\"rapid drought time(pentads)\",\"extend drought time(pentads)\"],loc = \"best\")\n",
    "\n",
    "# 坐标轴标签与名称\n",
    "plt.xticks(())\n",
    "plt.yticks(())\n",
    "\n",
    "plt.xlabel(\"每一次骤旱过程\")\n",
    "plt.ylabel(\"持续时间\")\n",
    "\n",
    "plt.savefig(\"F:/Data/flash_drought/flash drought total time.png\",dpi = 600)"
   ]
  }
 ],
 "metadata": {
  "kernelspec": {
   "display_name": "Python 3",
   "language": "python",
   "name": "python3"
  },
  "language_info": {
   "codemirror_mode": {
    "name": "ipython",
    "version": 3
   },
   "file_extension": ".py",
   "mimetype": "text/x-python",
   "name": "python",
   "nbconvert_exporter": "python",
   "pygments_lexer": "ipython3",
   "version": "3.7.1"
  }
 },
 "nbformat": 4,
 "nbformat_minor": 2
}
